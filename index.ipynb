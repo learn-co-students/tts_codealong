{
 "cells": [
  {
   "cell_type": "markdown",
   "id": "minute-legislation",
   "metadata": {},
   "source": [
    "# Cross Validation Codealong"
   ]
  },
  {
   "cell_type": "markdown",
   "id": "fatal-fruit",
   "metadata": {},
   "source": [
    "# Train Test Split"
   ]
  },
  {
   "cell_type": "markdown",
   "id": "eligible-orbit",
   "metadata": {},
   "source": [
    "# Cross validation"
   ]
  },
  {
   "cell_type": "markdown",
   "id": "brave-noise",
   "metadata": {},
   "source": [
    "# Cross validation with a hold out set"
   ]
  },
  {
   "cell_type": "markdown",
   "id": "coordinate-humidity",
   "metadata": {},
   "source": [
    "# Pipelines"
   ]
  },
  {
   "cell_type": "code",
   "execution_count": null,
   "id": "cooperative-viewer",
   "metadata": {},
   "outputs": [],
   "source": []
  }
 ],
 "metadata": {
  "kernelspec": {
   "display_name": "learn-env",
   "language": "python",
   "name": "learn-env"
  },
  "language_info": {
   "codemirror_mode": {
    "name": "ipython",
    "version": 3
   },
   "file_extension": ".py",
   "mimetype": "text/x-python",
   "name": "python",
   "nbconvert_exporter": "python",
   "pygments_lexer": "ipython3",
   "version": "3.7.3"
  }
 },
 "nbformat": 4,
 "nbformat_minor": 5
}
